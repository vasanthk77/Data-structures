{
 "cells": [
  {
   "cell_type": "code",
   "execution_count": 6,
   "metadata": {},
   "outputs": [
    {
     "name": "stdout",
     "output_type": "stream",
     "text": [
      "2\n"
     ]
    }
   ],
   "source": [
    "## Linear search\n",
    "\n",
    "def linearsearch(arr,target):\n",
    "    n=len(arr)\n",
    "    for i in range(n):\n",
    "        if arr[i]==target:\n",
    "            return i\n",
    "    return -1\n",
    "arr=[23,47,69,72,12,29]\n",
    "target=69\n",
    "result=linearsearch(arr,target)\n",
    "print(result)"
   ]
  },
  {
   "cell_type": "code",
   "execution_count": 20,
   "metadata": {},
   "outputs": [
    {
     "name": "stdout",
     "output_type": "stream",
     "text": [
      "0\n"
     ]
    }
   ],
   "source": [
    "## optimized solution\n",
    "\n",
    "def searchh(arr,target,i,j):\n",
    "    mid=(i+j)//2\n",
    "    if arr[mid] ==target:\n",
    "        return mid\n",
    "    elif arr[mid] < target:\n",
    "        return searchh(arr,target,mid+1,j)\n",
    "    else:\n",
    "        return searchh(arr,target,i,mid-1)\n",
    "    \n",
    "arr=[23,47,69,72,12]\n",
    "target=12\n",
    "arr.sort()\n",
    "i=0\n",
    "j=len(arr)- 1\n",
    "result=searchh(arr,target,i,j)\n",
    "print(result)\n"
   ]
  },
  {
   "cell_type": "code",
   "execution_count": 23,
   "metadata": {},
   "outputs": [
    {
     "name": "stdout",
     "output_type": "stream",
     "text": [
      "1\n"
     ]
    }
   ],
   "source": [
    "## optimized solution\n",
    "\n",
    "def searchh(arr,target,i,j):\n",
    "    mid=(i+j)//2\n",
    "    if arr[mid] ==target:\n",
    "        return mid\n",
    "    elif arr[mid] < target:\n",
    "        return searchh(arr,target,mid+1,j)\n",
    "    else:\n",
    "        return searchh(arr,target,i,mid-1)\n",
    "    \n",
    "arr=[23,47,69,72,12]\n",
    "target=23\n",
    "arr.sort()\n",
    "i=0\n",
    "j=len(arr)- 1\n",
    "result=searchh(arr,target,i,j)\n",
    "print(result)\n"
   ]
  },
  {
   "cell_type": "code",
   "execution_count": 27,
   "metadata": {},
   "outputs": [
    {
     "name": "stdout",
     "output_type": "stream",
     "text": [
      "1\n"
     ]
    }
   ],
   "source": [
    "## binary search\n",
    "\n",
    "def binarysearch(arr,start,end,target):\n",
    "    while start <= end :\n",
    "        mid=(start+end)//2\n",
    "        if arr[mid]==target:\n",
    "            return mid\n",
    "        elif arr[mid] < target:\n",
    "            start=mid+1\n",
    "        else:\n",
    "            end=mid-1\n",
    "    return -1\n",
    "arr=[1,2,3,4,5,6]\n",
    "target=2\n",
    "start=0\n",
    "end=len(arr)-1\n",
    "result=binarysearch(arr,start,end,target)\n",
    "print(result)"
   ]
  },
  {
   "cell_type": "code",
   "execution_count": 33,
   "metadata": {},
   "outputs": [
    {
     "data": {
      "text/plain": [
       "[1, 2, 3, 4, 5, 6]"
      ]
     },
     "execution_count": 33,
     "metadata": {},
     "output_type": "execute_result"
    }
   ],
   "source": [
    "arr[:3]+arr[-3:]"
   ]
  },
  {
   "cell_type": "code",
   "execution_count": 31,
   "metadata": {},
   "outputs": [
    {
     "data": {
      "text/plain": [
       "[4, 5, 6]"
      ]
     },
     "execution_count": 31,
     "metadata": {},
     "output_type": "execute_result"
    }
   ],
   "source": [
    "arr[-3:]"
   ]
  },
  {
   "cell_type": "code",
   "execution_count": 32,
   "metadata": {},
   "outputs": [
    {
     "data": {
      "text/plain": [
       "[1, 2, 3, 4]"
      ]
     },
     "execution_count": 32,
     "metadata": {},
     "output_type": "execute_result"
    }
   ],
   "source": [
    "arr[:4]"
   ]
  },
  {
   "cell_type": "code",
   "execution_count": 34,
   "metadata": {},
   "outputs": [
    {
     "data": {
      "text/plain": [
       "[4, 5, 6, 1, 2, 3]"
      ]
     },
     "execution_count": 34,
     "metadata": {},
     "output_type": "execute_result"
    }
   ],
   "source": [
    "arr[-3:]+arr[:3]"
   ]
  },
  {
   "cell_type": "code",
   "execution_count": 41,
   "metadata": {},
   "outputs": [
    {
     "name": "stdout",
     "output_type": "stream",
     "text": [
      "1\n",
      "2\n",
      "2\n",
      "2\n",
      "2\n"
     ]
    }
   ],
   "source": [
    "arr=[1,1,1,2,2]\n",
    "n=len(arr)\n",
    "count=0\n",
    "i=0\n",
    "j=i+1\n",
    "while i < j:\n",
    "    if arr[i]==arr[j]:\n",
    "        count=count+1\n",
    "        j=j+1\n",
    "    else:\n",
    "        i=i+1\n",
    "    print(count)\n",
    "    \n"
   ]
  },
  {
   "cell_type": "code",
   "execution_count": null,
   "metadata": {},
   "outputs": [
    {
     "ename": "IndentationError",
     "evalue": "expected an indented block after 'if' statement on line 6 (423338245.py, line 7)",
     "output_type": "error",
     "traceback": [
      "\u001b[1;36m  Cell \u001b[1;32mIn[43], line 7\u001b[1;36m\u001b[0m\n\u001b[1;33m    return i\u001b[0m\n\u001b[1;37m            ^\u001b[0m\n\u001b[1;31mIndentationError\u001b[0m\u001b[1;31m:\u001b[0m expected an indented block after 'if' statement on line 6\n"
     ]
    }
   ],
   "source": [
    "arr=[1,2,3,1]\n",
    "n=len(arr)\n",
    "i=0\n",
    "j=i+1\n",
    "while i < j:\n",
    "    if arr[-1] and arr[i+1] < arr[i]:\n",
    "    return i"
   ]
  },
  {
   "cell_type": "code",
   "execution_count": 44,
   "metadata": {},
   "outputs": [
    {
     "ename": "KeyboardInterrupt",
     "evalue": "",
     "output_type": "error",
     "traceback": [
      "\u001b[1;31m---------------------------------------------------------------------------\u001b[0m",
      "\u001b[1;31mKeyboardInterrupt\u001b[0m                         Traceback (most recent call last)",
      "Cell \u001b[1;32mIn[44], line 17\u001b[0m\n\u001b[0;32m     15\u001b[0m nums\u001b[38;5;241m=\u001b[39m[\u001b[38;5;241m1\u001b[39m,\u001b[38;5;241m2\u001b[39m,\u001b[38;5;241m1\u001b[39m,\u001b[38;5;241m3\u001b[39m,\u001b[38;5;241m5\u001b[39m,\u001b[38;5;241m6\u001b[39m,\u001b[38;5;241m4\u001b[39m]\n\u001b[0;32m     16\u001b[0m sol\u001b[38;5;241m=\u001b[39mSolution()\n\u001b[1;32m---> 17\u001b[0m result\u001b[38;5;241m=\u001b[39m\u001b[43msol\u001b[49m\u001b[38;5;241;43m.\u001b[39;49m\u001b[43mfindPeakElement\u001b[49m\u001b[43m(\u001b[49m\u001b[43mnums\u001b[49m\u001b[43m)\u001b[49m\n\u001b[0;32m     18\u001b[0m \u001b[38;5;28mprint\u001b[39m(result)\n",
      "Cell \u001b[1;32mIn[44], line 9\u001b[0m, in \u001b[0;36mSolution.findPeakElement\u001b[1;34m(self, nums)\u001b[0m\n\u001b[0;32m      7\u001b[0m i\u001b[38;5;241m=\u001b[39m\u001b[38;5;241m0\u001b[39m\n\u001b[0;32m      8\u001b[0m j\u001b[38;5;241m=\u001b[39m\u001b[38;5;28mlen\u001b[39m(nums)\u001b[38;5;241m-\u001b[39m\u001b[38;5;241m1\u001b[39m\n\u001b[1;32m----> 9\u001b[0m \u001b[38;5;28;01mwhile\u001b[39;00m i\u001b[38;5;241m<\u001b[39m\u001b[38;5;241m=\u001b[39mj:\n\u001b[0;32m     10\u001b[0m     mid\u001b[38;5;241m=\u001b[39m(i\u001b[38;5;241m+\u001b[39mj)\u001b[38;5;241m/\u001b[39m\u001b[38;5;241m/\u001b[39m\u001b[38;5;241m2\u001b[39m\n\u001b[0;32m     11\u001b[0m     \u001b[38;5;28;01mif\u001b[39;00m nums[mid]\u001b[38;5;241m<\u001b[39mnums[mid\u001b[38;5;241m+\u001b[39m\u001b[38;5;241m1\u001b[39m]:\n",
      "\u001b[1;31mKeyboardInterrupt\u001b[0m: "
     ]
    }
   ],
   "source": [
    "class Solution(object):\n",
    "    def findPeakElement(self, nums):\n",
    "        \"\"\"\n",
    "        :type nums: List[int]\n",
    "        :rtype: int\n",
    "        \"\"\"\n",
    "        i=0\n",
    "        j=len(nums)-1\n",
    "        while i<=j:\n",
    "            mid=(i+j)//2\n",
    "            if nums[mid]<nums[mid+1]:\n",
    "                i=mid+1\n",
    "            else:\n",
    "                j=mid\n",
    "nums=[1,2,1,3,5,6,4]\n",
    "sol=Solution()\n",
    "result=sol.findPeakElement(nums)\n",
    "print(result)\n"
   ]
  },
  {
   "cell_type": "code",
   "execution_count": null,
   "metadata": {},
   "outputs": [],
   "source": []
  }
 ],
 "metadata": {
  "kernelspec": {
   "display_name": "Python 3",
   "language": "python",
   "name": "python3"
  },
  "language_info": {
   "codemirror_mode": {
    "name": "ipython",
    "version": 3
   },
   "file_extension": ".py",
   "mimetype": "text/x-python",
   "name": "python",
   "nbconvert_exporter": "python",
   "pygments_lexer": "ipython3",
   "version": "3.11.0"
  }
 },
 "nbformat": 4,
 "nbformat_minor": 2
}
