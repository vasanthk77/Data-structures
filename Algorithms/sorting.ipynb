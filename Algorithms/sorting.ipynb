{
 "cells": [
  {
   "cell_type": "code",
   "execution_count": 9,
   "metadata": {},
   "outputs": [
    {
     "name": "stdout",
     "output_type": "stream",
     "text": [
      "[11, 21, 22, 30, 31, 32, 45]\n"
     ]
    }
   ],
   "source": [
    "def MergeProcedure(arr,start,mid,end):\n",
    "    L=arr[start:mid+1]  ## here mid+1 goes to mid because we include last value\n",
    "    R=arr[mid+1:end+1]\n",
    "    m=n=0\n",
    "    k=start\n",
    "\n",
    "    while m<len(L) and n<len(R):\n",
    "        if L[m] < R[n]:\n",
    "            arr[k]=L[m]\n",
    "            m=m+1\n",
    "        else:\n",
    "            arr[k]=R[n]\n",
    "            n=n+1\n",
    "        k=k+1\n",
    "    while m < len(L):\n",
    "        arr[k]=L[m]\n",
    "        m=m+1\n",
    "        k=k+1\n",
    "    while n < len(R):\n",
    "        arr[k]=R[n]\n",
    "        n=n+1\n",
    "        k=k+1\n",
    "\n",
    "\n",
    "def MergeSort(arr,start,end):\n",
    "    if start<end:\n",
    "        mid=(start+end)//2\n",
    "\n",
    "        ## recursive call\n",
    "        MergeSort(arr,start,mid)\n",
    "        MergeSort(arr,mid+1,end)\n",
    "\n",
    "        ## combining both results\n",
    "\n",
    "        MergeProcedure(arr,start,mid,end)\n",
    "\n",
    "\n",
    "\n",
    "\n",
    "\n",
    "\n",
    "\n",
    "\n",
    "\n",
    "arr=[22,11,21,30,45,32,31]\n",
    "start=0\n",
    "end=len(arr)-1\n",
    "MergeSort(arr,start,end)\n",
    "print(arr)\n"
   ]
  },
  {
   "cell_type": "code",
   "execution_count": null,
   "metadata": {},
   "outputs": [],
   "source": [
    "## Quick Sort\n",
    "\n",
    "def Quicksort(arr,p,q):\n",
    "    if p < q:\n",
    "        ## divide\n",
    "        mid=partition(arr,p,q)\n",
    "        ##2 conquer\n",
    "        Quicksort(arr,p,mid-1)\n",
    "        Quicksort(arr,mid+1,q)\n",
    "        \n",
    "\n",
    "\n",
    "\n",
    "\n",
    "\n",
    "\n",
    "\n",
    "\n",
    "\n",
    "\n",
    "\n",
    "\n",
    "\n",
    "\n",
    "\n",
    "arr=[23,47,11,52,20,74]\n",
    "p=0\n",
    "q=len(arr)-1\n",
    "result=Quicksort(arr,p,q)\n",
    "print(result)"
   ]
  }
 ],
 "metadata": {
  "kernelspec": {
   "display_name": "Python 3",
   "language": "python",
   "name": "python3"
  },
  "language_info": {
   "codemirror_mode": {
    "name": "ipython",
    "version": 3
   },
   "file_extension": ".py",
   "mimetype": "text/x-python",
   "name": "python",
   "nbconvert_exporter": "python",
   "pygments_lexer": "ipython3",
   "version": "3.11.0"
  }
 },
 "nbformat": 4,
 "nbformat_minor": 2
}
