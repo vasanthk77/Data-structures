{
 "cells": [
  {
   "cell_type": "code",
   "execution_count": null,
   "metadata": {},
   "outputs": [
    {
     "name": "stdout",
     "output_type": "stream",
     "text": [
      "1\n"
     ]
    }
   ],
   "source": [
    "## Peak Element\n",
    "\n",
    "class Solution(object):\n",
    "    def findPeakElement(self, nums):\n",
    "        \"\"\"\n",
    "        :type nums: List[int]\n",
    "        :rtype: int\n",
    "        \"\"\"\n",
    "        i=0\n",
    "        j=len(nums)-1\n",
    "        while i<j:\n",
    "            mid=(i+j)//2\n",
    "            if nums[mid]<nums[mid+1]:\n",
    "                i=mid+1\n",
    "            else:\n",
    "                j=mid\n",
    "        return i\n",
    "nums=[1,2,1,3]\n",
    "sol=Solution()\n",
    "result=sol.findPeakElement(nums)\n",
    "print(result)\n"
   ]
  },
  {
   "cell_type": "code",
   "execution_count": 2,
   "metadata": {},
   "outputs": [
    {
     "name": "stdout",
     "output_type": "stream",
     "text": [
      "3\n"
     ]
    }
   ],
   "source": [
    "class Solution(object):\n",
    "    def search(self, nums, target):\n",
    "        \"\"\"\n",
    "        :type nums: List[int]\n",
    "        :type target: int\n",
    "        :rtype: int\n",
    "        \"\"\"\n",
    "        i = 0\n",
    "        j = len(nums) - 1\n",
    "\n",
    "        while i <= j:\n",
    "            mid = (i + j) // 2\n",
    "\n",
    "            # Check if mid is the target\n",
    "            if nums[mid] == target:\n",
    "                return mid\n",
    "\n",
    "            # Check which half is sorted\n",
    "            if nums[i] <= nums[mid]:  # Left half is sorted\n",
    "                if nums[i] <= target < nums[mid]:\n",
    "                    j = mid - 1  # Search in the left half\n",
    "                else:\n",
    "                    i = mid + 1  # Search in the right half\n",
    "            else:  # Right half is sorted\n",
    "                if nums[mid] < target <= nums[j]:\n",
    "                    i = mid + 1  # Search in the right half\n",
    "                else:\n",
    "                    j = mid - 1  # Search in the left half\n",
    "\n",
    "        # If we exit the loop, target is not in the array\n",
    "        return -1\n",
    "\n",
    "# Example usage:\n",
    "nums = [4, 5, 6, 7, 0, 1, 2]\n",
    "target = 7\n",
    "sol = Solution()\n",
    "result = sol.search(nums, target)\n",
    "print(result)  # Output: 3\n"
   ]
  },
  {
   "cell_type": "code",
   "execution_count": null,
   "metadata": {},
   "outputs": [],
   "source": [
    "## 287\n",
    "# Duplicate number\n",
    "class Solution(object):\n",
    "    def findDuplicate(self, nums):\n",
    "        \"\"\"\n",
    "        :type nums: List[int]\n",
    "        :rtype: int\n",
    "        \"\"\"\n",
    "        slow=fast=nums[0]\n",
    "        while True:\n",
    "            slow=nums[slow]\n",
    "            fast=nums[nums[fast]]\n",
    "            ## meeting point\n",
    "            if slow == fast:\n",
    "                break\n",
    "        ## Find the Entrance of the cycle\n",
    "        slow=nums[0]\n",
    "        while slow != fast:\n",
    "            slow=nums[slow]\n",
    "            fast=nums[fast]\n",
    "        return fast\n",
    "\n",
    "\n",
    "\n",
    "        "
   ]
  }
 ],
 "metadata": {
  "kernelspec": {
   "display_name": "Python 3",
   "language": "python",
   "name": "python3"
  },
  "language_info": {
   "codemirror_mode": {
    "name": "ipython",
    "version": 3
   },
   "file_extension": ".py",
   "mimetype": "text/x-python",
   "name": "python",
   "nbconvert_exporter": "python",
   "pygments_lexer": "ipython3",
   "version": "3.11.0"
  }
 },
 "nbformat": 4,
 "nbformat_minor": 2
}
