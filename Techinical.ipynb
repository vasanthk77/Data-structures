{
  "nbformat": 4,
  "nbformat_minor": 0,
  "metadata": {
    "colab": {
      "provenance": [],
      "authorship_tag": "ABX9TyNCL42i1qXT+uCGc3AoKzw0",
      "include_colab_link": true
    },
    "kernelspec": {
      "name": "python3",
      "display_name": "Python 3"
    },
    "language_info": {
      "name": "python"
    }
  },
  "cells": [
    {
      "cell_type": "markdown",
      "metadata": {
        "id": "view-in-github",
        "colab_type": "text"
      },
      "source": [
        "<a href=\"https://colab.research.google.com/github/vasanthk77/Data-structures/blob/main/Techinical.ipynb\" target=\"_parent\"><img src=\"https://colab.research.google.com/assets/colab-badge.svg\" alt=\"Open In Colab\"/></a>"
      ]
    },
    {
      "cell_type": "code",
      "source": [
        "## Factorial\n",
        "def factorial(n):\n",
        "  if n==0 or n==1:\n",
        "    return 1\n",
        "  else:\n",
        "    return n * factorial(n-1)\n",
        "result=factorial(5)\n",
        "result"
      ],
      "metadata": {
        "colab": {
          "base_uri": "https://localhost:8080/"
        },
        "id": "7A9DuqowOPGJ",
        "outputId": "9b46cd8f-3da9-42d2-f34c-e3f51b5487cb"
      },
      "execution_count": 3,
      "outputs": [
        {
          "output_type": "execute_result",
          "data": {
            "text/plain": [
              "120"
            ]
          },
          "metadata": {},
          "execution_count": 3
        }
      ]
    },
    {
      "cell_type": "code",
      "source": [
        "def fact(n):\n",
        "  a=1\n",
        "  while n>0:\n",
        "    a=a*n\n",
        "    n=n-1\n",
        "  return a\n",
        "b=fact(5)\n",
        "b\n"
      ],
      "metadata": {
        "colab": {
          "base_uri": "https://localhost:8080/"
        },
        "id": "cfUINUV4O9Wd",
        "outputId": "4e73858c-078a-491e-ed37-37da6dd2aaa5"
      },
      "execution_count": 12,
      "outputs": [
        {
          "output_type": "execute_result",
          "data": {
            "text/plain": [
              "120"
            ]
          },
          "metadata": {},
          "execution_count": 12
        }
      ]
    },
    {
      "cell_type": "code",
      "source": [],
      "metadata": {
        "id": "DUnh7-bWQKp2"
      },
      "execution_count": null,
      "outputs": []
    },
    {
      "cell_type": "code",
      "execution_count": null,
      "metadata": {
        "id": "WwXrfAqhOIG2"
      },
      "outputs": [],
      "source": [
        "##  binary search using recursion\n",
        "\n",
        "arr=[3,2,1,5,6,9,7]\n",
        "i=0\n",
        "j=len(arr)-1\n",
        "target=7\n",
        "def binarysearch(n):\n",
        "  n=len(arr)\n",
        "  i=0\n",
        "  j=len(arr)-1\n",
        "  target=7\n",
        "  for i in range(n):\n",
        "    mid=(i+j)//2\n",
        "  if arr[mid]==target:\n",
        "    return arr[i]\n",
        "  elif mid <=target:\n",
        "    return binarysearch(n,mid+1,j)\n",
        "  else:\n",
        "    return binarysearch(n,i,mid-1)\n",
        "\n"
      ]
    },
    {
      "cell_type": "code",
      "source": [
        "binarysearch(arr)"
      ],
      "metadata": {
        "colab": {
          "base_uri": "https://localhost:8080/"
        },
        "id": "elV0HCV0PRNR",
        "outputId": "7d98457f-06e9-4cf2-d9f5-984817223210"
      },
      "execution_count": null,
      "outputs": [
        {
          "output_type": "execute_result",
          "data": {
            "text/plain": [
              "7"
            ]
          },
          "metadata": {},
          "execution_count": 3
        }
      ]
    },
    {
      "cell_type": "code",
      "source": [
        "### Linear search\n",
        "def linearsearch(arr):\n",
        "  n=len(arr)\n",
        "  target=9\n",
        "  i=0\n",
        "  j=len(arr)-1\n",
        "  while i <= j:\n",
        "    if arr[i]==target:\n",
        "      return arr[i]\n",
        "    else:\n",
        "      i=i+1"
      ],
      "metadata": {
        "id": "LybRwL0jPcFc"
      },
      "execution_count": null,
      "outputs": []
    },
    {
      "cell_type": "code",
      "source": [
        "linearsearch(arr)"
      ],
      "metadata": {
        "colab": {
          "base_uri": "https://localhost:8080/"
        },
        "id": "qdQi1AkjP3BX",
        "outputId": "f8632bd5-e93c-4e58-e47a-547d505f44da"
      },
      "execution_count": null,
      "outputs": [
        {
          "output_type": "execute_result",
          "data": {
            "text/plain": [
              "9"
            ]
          },
          "metadata": {},
          "execution_count": 15
        }
      ]
    },
    {
      "cell_type": "code",
      "source": [
        "## Sorting algorithms\n",
        "## bubble sort\n",
        "\n",
        "def bubblesort(arr):\n",
        "  n=len(arr)\n",
        "  i=0\n",
        "  j=i+1\n",
        "  for i in range(n):\n",
        "    for j in range(i+1,n):\n",
        "      if arr[i] > arr[j]:\n",
        "        arr[i],arr[j]=arr[j],arr[i]\n",
        "  return arr\n"
      ],
      "metadata": {
        "id": "Ki3yKZQYP57t"
      },
      "execution_count": null,
      "outputs": []
    },
    {
      "cell_type": "code",
      "source": [
        "bubblesort(arr)"
      ],
      "metadata": {
        "id": "149rDix8RgZA",
        "outputId": "ede96508-f6fb-48e6-acf2-68aaf97b6538",
        "colab": {
          "base_uri": "https://localhost:8080/"
        }
      },
      "execution_count": null,
      "outputs": [
        {
          "output_type": "execute_result",
          "data": {
            "text/plain": [
              "[1, 2, 3, 5, 6, 7, 9]"
            ]
          },
          "metadata": {},
          "execution_count": 17
        }
      ]
    },
    {
      "cell_type": "code",
      "source": [
        "def prime(n):\n",
        "  if n==0 or n==1:\n",
        "    return \"No prime\"\n",
        "  else:\n",
        "    for i in range(2,n):\n",
        "      if n%i==0:\n",
        "        return \"is not Prime\"\n",
        "      else:\n",
        "        return \"is Prime\"\n",
        "n=2\n",
        "result=prime(n)\n",
        "print(result)\n"
      ],
      "metadata": {
        "id": "o7U7iwuzRhzZ",
        "colab": {
          "base_uri": "https://localhost:8080/"
        },
        "outputId": "53445d66-0fb7-46eb-f022-31731ac40e12"
      },
      "execution_count": null,
      "outputs": [
        {
          "output_type": "stream",
          "name": "stdout",
          "text": [
            "None\n"
          ]
        }
      ]
    },
    {
      "cell_type": "code",
      "source": [
        "def fibannoic(n):\n",
        "  if n==0:\n",
        "    return []\n",
        "  elif n==1:\n",
        "    return [0]\n",
        "  elif n==2:\n",
        "    return [0,1]\n",
        "  fib=[0,1]\n",
        "  for i in range(2,n):\n",
        "    fib.append(fib[i-1]+fib[i-2])\n",
        "  return fib\n",
        "n=5\n",
        "result=fibannoic(n)\n",
        "print(result)\n",
        "\n",
        "\n"
      ],
      "metadata": {
        "colab": {
          "base_uri": "https://localhost:8080/"
        },
        "id": "IIROp8dGgf5_",
        "outputId": "a62033d5-e138-499b-b31c-530050795548"
      },
      "execution_count": null,
      "outputs": [
        {
          "output_type": "stream",
          "name": "stdout",
          "text": [
            "[0, 1, 1, 2, 3]\n"
          ]
        }
      ]
    },
    {
      "cell_type": "code",
      "source": [
        "class Node:\n",
        "  def __init__(self,data):\n",
        "    self.data=data\n",
        "    self.next=None\n",
        "\n",
        "class Linkedlist:\n",
        "  def __init__(self):\n",
        "    self.head=None\n",
        "\n",
        "  def insertatBeginning(self,data):\n",
        "    new_node=Node(data)\n",
        "    new_node.next=self.head\n",
        "    self.head=new_node\n",
        "\n",
        "  def end(self,data):\n",
        "    new_node=Node(data)\n",
        "    last=self.head\n",
        "    while last.next:\n",
        "      last=last.next\n",
        "    last.next=new_node\n",
        "\n",
        "  def reversal(self,data):\n",
        "\n",
        "\n",
        "\n",
        "\n",
        "  def display(self):\n",
        "    temp=self.head\n",
        "    while temp:\n",
        "      print(temp.data, end=\" -> \")\n",
        "      temp = temp.next\n",
        "    print(\"None\")\n",
        "\n",
        "result=Linkedlist()\n",
        "result.insertatBeginning(5)\n",
        "result.insertatBeginning(11)\n",
        "result.end(12)\n",
        "result.end(13)\n",
        "result.display()"
      ],
      "metadata": {
        "colab": {
          "base_uri": "https://localhost:8080/"
        },
        "id": "P03qvoJTi7nO",
        "outputId": "b5169751-bb1a-4003-9a8f-7526b518bfc5"
      },
      "execution_count": null,
      "outputs": [
        {
          "output_type": "stream",
          "name": "stdout",
          "text": [
            "11 -> 5 -> 12 -> 13 -> None\n"
          ]
        }
      ]
    },
    {
      "cell_type": "code",
      "source": [
        "def subarray(arr):\n",
        "  n=len(arr)\n",
        "  k=4\n",
        "  window_sum=sum(arr[:k])\n",
        "  max_sum=window_sum\n",
        "  for i in range(k,n):\n",
        "    window_sum=window_sum-arr[i-k]+arr[i]\n",
        "    max_sum=max(window_sum,max_sum)\n",
        "  return max_sum\n",
        "arr=[1,12,-5,-6,50,3]\n",
        "result=subarray(arr)\n",
        "print(result)\n",
        "\n"
      ],
      "metadata": {
        "colab": {
          "base_uri": "https://localhost:8080/"
        },
        "id": "ZXmXnWfH0d8K",
        "outputId": "31e36382-49df-4f9c-bcd4-a87715505a7a"
      },
      "execution_count": null,
      "outputs": [
        {
          "output_type": "stream",
          "name": "stdout",
          "text": [
            "51\n"
          ]
        }
      ]
    },
    {
      "cell_type": "code",
      "source": [
        "def reverse(arr):\n",
        "  i=0\n",
        "  j=len(arr)-1\n",
        "  while i < j:\n",
        "    arr[i],arr[j]=arr[j],arr[i]\n",
        "    i=i+1\n",
        "    j=j-1\n",
        "  return arr\n",
        "arr=[1,2,3,4,5,6,7,8]\n",
        "result=reverse(arr)\n",
        "result"
      ],
      "metadata": {
        "id": "NKM6ithxGP-t",
        "colab": {
          "base_uri": "https://localhost:8080/"
        },
        "outputId": "7e1312aa-c2a6-40f3-8ec8-84a788e99787"
      },
      "execution_count": null,
      "outputs": [
        {
          "output_type": "execute_result",
          "data": {
            "text/plain": [
              "[8, 7, 6, 5, 4, 3, 2, 1]"
            ]
          },
          "metadata": {},
          "execution_count": 4
        }
      ]
    },
    {
      "cell_type": "code",
      "source": [],
      "metadata": {
        "id": "3hykFsLKLTjr"
      },
      "execution_count": null,
      "outputs": []
    }
  ]
}