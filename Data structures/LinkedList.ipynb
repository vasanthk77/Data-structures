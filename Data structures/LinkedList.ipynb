{
 "cells": [
  {
   "cell_type": "code",
   "execution_count": 3,
   "metadata": {},
   "outputs": [
    {
     "name": "stdout",
     "output_type": "stream",
     "text": [
      "50 -> 40 -> 30 -> 20 -> 10\n"
     ]
    }
   ],
   "source": [
    "class Node:\n",
    "    def __init__(self, data):\n",
    "        self.data = data\n",
    "        self.nextptr = None\n",
    "\n",
    "\n",
    "class LinkedList:\n",
    "    # Initialize the linked list\n",
    "    def __init__(self):\n",
    "        self.head = None\n",
    "\n",
    "    # Function to insert new data at the beginning of the linked list\n",
    "    def insertAtBeginning(self, new_data):\n",
    "        new_node = Node(new_data)\n",
    "        new_node.nextptr = self.head  # Correct attribute name\n",
    "        self.head = new_node\n",
    "\n",
    "    # Function to print the linked list\n",
    "    def printLl(self):\n",
    "        temp = self.head  # Correctly access the head node\n",
    "        while temp:\n",
    "            print(str(temp.data), end=\" -> \" if temp.nextptr else \"\\n\")  # Print data with separator\n",
    "            temp = temp.nextptr\n",
    "\n",
    "\n",
    "# Create and test the linked list\n",
    "llist = LinkedList()\n",
    "llist.insertAtBeginning(10)\n",
    "llist.insertAtBeginning(20)\n",
    "llist.insertAtBeginning(30)\n",
    "llist.insertAtBeginning(40)\n",
    "llist.insertAtBeginning(50)\n",
    "llist.printLl()\n"
   ]
  },
  {
   "cell_type": "code",
   "execution_count": null,
   "metadata": {},
   "outputs": [],
   "source": []
  }
 ],
 "metadata": {
  "kernelspec": {
   "display_name": "Python 3",
   "language": "python",
   "name": "python3"
  },
  "language_info": {
   "codemirror_mode": {
    "name": "ipython",
    "version": 3
   },
   "file_extension": ".py",
   "mimetype": "text/x-python",
   "name": "python",
   "nbconvert_exporter": "python",
   "pygments_lexer": "ipython3",
   "version": "3.11.0"
  }
 },
 "nbformat": 4,
 "nbformat_minor": 2
}
