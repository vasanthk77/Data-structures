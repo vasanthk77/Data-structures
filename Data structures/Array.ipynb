{
 "cells": [
  {
   "cell_type": "code",
   "execution_count": 1,
   "metadata": {},
   "outputs": [
    {
     "name": "stdout",
     "output_type": "stream",
     "text": [
      "[1, 2, 3, 4, 5]\n"
     ]
    }
   ],
   "source": [
    "a=[1,2,3,4,5]\n",
    "print(a)"
   ]
  },
  {
   "cell_type": "code",
   "execution_count": null,
   "metadata": {},
   "outputs": [
    {
     "name": "stdout",
     "output_type": "stream",
     "text": [
      "Reversed array is : [7, 6, 5, 5, 6, 7]\n"
     ]
    }
   ],
   "source": [
    "## Reversal of array using two pointer approach\n",
    "arr=[1,3,4,5,6,7]\n",
    "n=len(arr)-1\n",
    "i=0\n",
    "j=len(arr)-1\n",
    "for i in range(n):\n",
    "    arr[i],arr[j]=arr[j],arr[j]\n",
    "    i=i+1\n",
    "    j=j-1\n",
    "print(\"Reversed array is :\",arr)\n"
   ]
  },
  {
   "cell_type": "code",
   "execution_count": 3,
   "metadata": {},
   "outputs": [
    {
     "name": "stdout",
     "output_type": "stream",
     "text": [
      "[7, 6, 5, 4, 3, 1]\n"
     ]
    }
   ],
   "source": [
    "arr=[1,3,4,5,6,7]\n",
    "arr.reverse()\n",
    "print(arr)"
   ]
  },
  {
   "cell_type": "code",
   "execution_count": null,
   "metadata": {},
   "outputs": [
    {
     "name": "stdout",
     "output_type": "stream",
     "text": [
      "[2, 6, 1, 3, 5, 7]\n"
     ]
    }
   ],
   "source": [
    "def evenodd(arr):\n",
    "    a=[]\n",
    "    b=[]\n",
    "    n=len(arr)-1\n",
    "    for i in range(n):\n",
    "        if arr[i]%2==0:\n",
    "            a.append(arr[i])\n",
    "        else:\n",
    "            b.append(arr[i])\n",
    "    return a+b\n",
    "arr=[1,2,3,5,6,7,8]\n",
    "result=evenodd(arr)\n",
    "print(result)\n",
    "\n",
    "## space complexity is more"
   ]
  },
  {
   "cell_type": "code",
   "execution_count": 9,
   "metadata": {},
   "outputs": [
    {
     "name": "stdout",
     "output_type": "stream",
     "text": [
      "[2, 6, 1, 3, 5, 7]\n"
     ]
    }
   ],
   "source": [
    "def evenodd(arr):\n",
    "    a=[]\n",
    "    n=len(arr)-1\n",
    "    for i in range(n):\n",
    "        if arr[i]%2==0:\n",
    "            a.append(arr[i])\n",
    "    for j in range(n):\n",
    "        if arr[j]%2 !=0:\n",
    "            a.append(arr[j])\n",
    "    return a\n",
    "arr=[1,2,3,5,6,7,8]\n",
    "result=evenodd(arr)\n",
    "print(result)\n"
   ]
  },
  {
   "cell_type": "code",
   "execution_count": 13,
   "metadata": {},
   "outputs": [
    {
     "name": "stdout",
     "output_type": "stream",
     "text": [
      "[2, 4, 6, 8, 5, 3, 7, 1, 9]\n"
     ]
    }
   ],
   "source": [
    "### without extra space\n",
    "arr=[1,2,3,4,5,6,7,8,9]\n",
    "def even_odd(arr):\n",
    "  n=len(arr)\n",
    "  i=0\n",
    "  j=-1\n",
    "  while i<n:\n",
    "    if arr[i]%2==0:\n",
    "       j=j+1\n",
    "       arr[j],arr[i]=arr[i],arr[j]\n",
    "    i=i+1\n",
    "  return arr\n",
    "result = even_odd(arr)\n",
    "print(result)"
   ]
  },
  {
   "cell_type": "code",
   "execution_count": null,
   "metadata": {},
   "outputs": [
    {
     "name": "stdout",
     "output_type": "stream",
     "text": [
      "(2, 3)\n"
     ]
    },
    {
     "data": {
      "text/plain": [
       "6"
      ]
     },
     "execution_count": 20,
     "metadata": {},
     "output_type": "execute_result"
    }
   ],
   "source": [
    "## TWO sum\n",
    "arr=[1,2,3,4,5,6]\n",
    "def twosum(arr):\n",
    "    i=0\n",
    "    j=i+1\n",
    "    target=5\n",
    "    n=len(arr)\n",
    "    for i in range(n):\n",
    "        if arr[i]+arr[j]==target:\n",
    "            return arr[i],arr[j]\n",
    "        else:\n",
    "            i=i+1\n",
    "            j=i+1\n",
    "result=twosum(arr)\n",
    "print(result)\n",
    "len(arr)\n",
    "    "
   ]
  },
  {
   "cell_type": "code",
   "execution_count": 15,
   "metadata": {},
   "outputs": [
    {
     "data": {
      "text/plain": [
       "8"
      ]
     },
     "execution_count": 15,
     "metadata": {},
     "output_type": "execute_result"
    }
   ],
   "source": [
    "len(arr)-1"
   ]
  },
  {
   "cell_type": "code",
   "execution_count": null,
   "metadata": {},
   "outputs": [],
   "source": []
  }
 ],
 "metadata": {
  "kernelspec": {
   "display_name": "Python 3",
   "language": "python",
   "name": "python3"
  },
  "language_info": {
   "codemirror_mode": {
    "name": "ipython",
    "version": 3
   },
   "file_extension": ".py",
   "mimetype": "text/x-python",
   "name": "python",
   "nbconvert_exporter": "python",
   "pygments_lexer": "ipython3",
   "version": "3.11.0"
  }
 },
 "nbformat": 4,
 "nbformat_minor": 2
}
